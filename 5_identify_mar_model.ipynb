{
 "cells": [
  {
   "cell_type": "code",
   "execution_count": 1,
   "id": "08689499-3cdc-43db-a57e-0104f0868d20",
   "metadata": {},
   "outputs": [],
   "source": [
    "import numpy as np\n",
    "import scipy\n",
    "import matplotlib.pyplot as plt\n",
    "%matplotlib inline"
   ]
  },
  {
   "cell_type": "code",
   "execution_count": 2,
   "id": "75b29964-6425-4337-aa2a-ac53ce4a87aa",
   "metadata": {
    "tags": []
   },
   "outputs": [],
   "source": [
    "x = np.load(\"mar_data.npy\")"
   ]
  },
  {
   "cell_type": "markdown",
   "id": "1e9181b7-af6e-4799-bac2-24df0cc1824b",
   "metadata": {},
   "source": [
    "## 初期化"
   ]
  },
  {
   "cell_type": "code",
   "execution_count": 3,
   "id": "ea55d686-f663-49c9-afd6-2634be8dda11",
   "metadata": {
    "tags": []
   },
   "outputs": [],
   "source": [
    "eta0 = np.array([0.5, 0.5])\n",
    "c0 = np.array([0.0, 0.0])\n",
    "phi0 = np.array([[0.9], [1.1]])\n",
    "sigma0 = np.array([1.0, 1.0])"
   ]
  },
  {
   "cell_type": "markdown",
   "id": "3f86fe86-b598-4844-bd16-2e493db91420",
   "metadata": {},
   "source": [
    "## EMアルゴリズム"
   ]
  },
  {
   "cell_type": "code",
   "execution_count": 4,
   "id": "8be1f134-1e53-40d2-82e5-e7c46696db93",
   "metadata": {
    "tags": []
   },
   "outputs": [],
   "source": [
    "p = 1"
   ]
  },
  {
   "cell_type": "code",
   "execution_count": 5,
   "id": "059e8022-4e8d-45c8-83f5-96752773489f",
   "metadata": {},
   "outputs": [],
   "source": [
    "def e_step(x, eta, c, phi, sigma):\n",
    "    z = np.fliplr(np.lib.stride_tricks.sliding_window_view(x[:-1], p))\n",
    "    e = x[p:] - (c[:, np.newaxis] + np.einsum(\"kp,tp->kt\", phi, z))\n",
    "    log_resp = np.log(eta)[:, np.newaxis] + scipy.stats.norm.logpdf(e, scale=sigma[:, np.newaxis])\n",
    "    log_resp -= scipy.special.logsumexp(log_resp, axis=0, keepdims=True)\n",
    "    return log_resp"
   ]
  },
  {
   "cell_type": "code",
   "execution_count": 6,
   "id": "4e852078-9b6f-443b-b701-0167d549bfcd",
   "metadata": {
    "tags": []
   },
   "outputs": [],
   "source": [
    "def optimize_eta(gamma):\n",
    "    return gamma / gamma.sum()\n",
    "def optimize_beta(X, Z):\n",
    "    beta = []\n",
    "    for (Z_k, X_k) in zip(Z, X):\n",
    "        (beta_k, *_) = np.linalg.lstsq(Z_k, X_k, rcond=None)\n",
    "        beta.append(beta_k)\n",
    "    return np.stack(beta)\n",
    "def optimize_sq_sigma(beta, X, Z, gamma):\n",
    "    return np.square(X - np.einsum(\"ktp,kp->kt\", Z, beta)).sum(axis=-1) / gamma\n",
    "\n",
    "def m_step(x, log_resp):\n",
    "    resp = np.exp(log_resp)\n",
    "    sqrt_resp = np.sqrt(resp)\n",
    "    gamma = resp.sum(axis=-1)\n",
    "    \n",
    "    X = sqrt_resp * x[p:]\n",
    "    Z = np.fliplr(np.lib.stride_tricks.sliding_window_view(x[:-1], p))\n",
    "    Z = np.hstack([np.ones((Z.shape[0], 1)), Z])\n",
    "    Z = sqrt_resp[:, :, np.newaxis] * Z\n",
    "    \n",
    "    eta_ = optimize_eta(gamma)\n",
    "    beta_ = optimize_beta(X, Z)\n",
    "    sigma_ = np.sqrt(optimize_sq_sigma(beta_, X, Z, gamma))\n",
    "    \n",
    "    c_ = beta_[:, 0]\n",
    "    phi_ = beta_[:, 1:]\n",
    "    return (eta_, c_, phi_, sigma_)"
   ]
  },
  {
   "cell_type": "code",
   "execution_count": 7,
   "id": "8617ccdb-5c78-413e-9db9-9cf6887e2219",
   "metadata": {
    "tags": []
   },
   "outputs": [],
   "source": [
    "def log_likelihood(x, eta, c, phi, sigma):\n",
    "    z = np.fliplr(np.lib.stride_tricks.sliding_window_view(x[:-1], p))\n",
    "    e = x[p:] - (c[:, np.newaxis] + np.einsum(\"kp,tp->kt\", phi, z))\n",
    "    log_p = np.log(eta)[:, np.newaxis] + scipy.stats.norm.logpdf(e, scale=sigma[:, np.newaxis])\n",
    "    return scipy.special.logsumexp(log_p, axis=0).sum()"
   ]
  },
  {
   "cell_type": "markdown",
   "id": "6a61286f-b1e6-4833-9fe9-1c6cff44c409",
   "metadata": {},
   "source": [
    "### 収束の様子を確認"
   ]
  },
  {
   "cell_type": "code",
   "execution_count": 8,
   "id": "075d476d-70e4-4784-9835-5b247a801f09",
   "metadata": {
    "tags": []
   },
   "outputs": [],
   "source": [
    "eta = eta0\n",
    "c = c0\n",
    "phi = phi0\n",
    "sigma = sigma0\n",
    "\n",
    "history = [log_likelihood(x, eta, c, phi, sigma)]\n",
    "for _ in range(10):\n",
    "    log_resp = e_step(x, eta, c, phi, sigma)\n",
    "    (eta, c, phi, sigma) = m_step(x, log_resp)\n",
    "    L = log_likelihood(x, eta, c, phi, sigma)\n",
    "    history.append(L)"
   ]
  },
  {
   "cell_type": "code",
   "execution_count": 9,
   "id": "23d31f7b-12da-4cfb-bf20-497d093d8a91",
   "metadata": {},
   "outputs": [
    {
     "data": {
      "image/png": "[encoded data removed]",
      "text/plain": [
       "<Figure size 640x480 with 1 Axes>"
      ]
     },
     "metadata": {},
     "output_type": "display_data"
    }
   ],
   "source": [
    "(fig, ax) = plt.subplots()\n",
    "ax.plot(history)\n",
    "plt.show()"
   ]
  },
  {
   "cell_type": "markdown",
   "id": "44d095c3-79f0-4fe4-857c-0e30806f1204",
   "metadata": {},
   "source": [
    "### モデルを同定"
   ]
  },
  {
   "cell_type": "code",
   "execution_count": 10,
   "id": "c02ceb10-49db-4644-9e69-61b08a87e27a",
   "metadata": {
    "tags": []
   },
   "outputs": [],
   "source": [
    "MAX_ITER = 100\n",
    "CONVERGENCE_THRESHOLD = 1e-3\n",
    "\n",
    "def identify_mar(x, eta0, c0, phi0, sigma0):\n",
    "    eta = eta0\n",
    "    c = c0\n",
    "    phi = phi0\n",
    "    sigma = sigma0\n",
    "    \n",
    "    L = log_likelihood(x, eta, c, phi, sigma)\n",
    "    for _ in range(MAX_ITER):\n",
    "        log_resp = e_step(x, eta, c, phi, sigma)\n",
    "        (eta, c, phi, sigma) = m_step(x, log_resp)\n",
    "        L_ = log_likelihood(x, eta, c, phi, sigma)\n",
    "        if abs(L_ - L) < CONVERGENCE_THRESHOLD:\n",
    "            break\n",
    "        L = L_\n",
    "    \n",
    "    return (eta, c, phi, sigma)"
   ]
  },
  {
   "cell_type": "code",
   "execution_count": 11,
   "id": "1f35699f-653f-4e63-8a27-482f41b2b8e6",
   "metadata": {},
   "outputs": [
    {
     "name": "stdout",
     "output_type": "stream",
     "text": [
      "[0.48333192 0.51666808]\n",
      "[0.1192715  0.09443656]\n",
      "[[0.41457039]\n",
      " [1.0954469 ]]\n",
      "[5.18348074 0.96523573]\n"
     ]
    }
   ],
   "source": [
    "(eta, c, phi, sigma) = identify_mar(x, eta0, c0, phi0, sigma0)\n",
    "print(eta)\n",
    "print(c)\n",
    "print(phi)\n",
    "print(sigma)"
   ]
  },
  {
   "cell_type": "code",
   "execution_count": null,
   "id": "8737faa3-c6f3-4af1-8fb1-5c0c16d17e5b",
   "metadata": {},
   "outputs": [],
   "source": []
  }
 ],
 "metadata": {
  "kernelspec": {
   "display_name": "Python 3 (ipykernel)",
   "language": "python",
   "name": "python3"
  },
  "language_info": {
   "codemirror_mode": {
    "name": "ipython",
    "version": 3
   },
   "file_extension": ".py",
   "mimetype": "text/x-python",
   "name": "python",
   "nbconvert_exporter": "python",
   "pygments_lexer": "ipython3",
   "version": "3.11.5"
  }
 },
 "nbformat": 4,
 "nbformat_minor": 5
}
