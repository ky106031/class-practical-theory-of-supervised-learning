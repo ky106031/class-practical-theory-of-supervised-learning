{
 "cells": [
  {
   "cell_type": "code",
   "execution_count": 1,
   "id": "08689499-3cdc-43db-a57e-0104f0868d20",
   "metadata": {},
   "outputs": [],
   "source": [
    "import numpy as np"
   ]
  },
  {
   "cell_type": "code",
   "execution_count": null,
   "id": "4be65242-7c1f-4fe2-ad27-46422e971d63",
   "metadata": {
    "tags": []
   },
   "outputs": [],
   "source": [
    "x = np.load(\"ar_data.npy\")"
   ]
  },
  {
   "cell_type": "markdown",
   "id": "cf7da03b-a288-4a55-b1e5-f783b9333808",
   "metadata": {
    "tags": []
   },
   "source": [
    "## 最尤法"
   ]
  },
  {
   "cell_type": "code",
   "execution_count": 3,
   "id": "d9e08fda-de01-4233-ae5e-29b7e5187151",
   "metadata": {
    "tags": []
   },
   "outputs": [],
   "source": [
    "p = 2\n",
    "T = len(x)"
   ]
  },
  {
   "cell_type": "code",
   "execution_count": 4,
   "id": "68bb82cb-d31f-4198-b802-c57790607a40",
   "metadata": {
    "tags": []
   },
   "outputs": [],
   "source": [
    "X = x[p:]\n",
    "Z = np.fliplr(np.lib.stride_tricks.sliding_window_view(x[:-1], p))\n",
    "Z = np.hstack([np.ones((T-p, 1)), Z])"
   ]
  },
  {
   "cell_type": "code",
   "execution_count": 5,
   "id": "b3aaa464-6501-45c3-b01b-0a3ce6b80945",
   "metadata": {
    "tags": []
   },
   "outputs": [],
   "source": [
    "(beta_hat, *_) = np.linalg.lstsq(Z, X, rcond=None)\n",
    "sq_sigma_hat = np.square(X - Z @ beta_hat).sum() / (T - 1)\n",
    "sigma_hat = np.sqrt(sq_sigma_hat)"
   ]
  },
  {
   "cell_type": "code",
   "execution_count": 6,
   "id": "251e3c18-a5c5-4031-8e80-cbe8d6fad720",
   "metadata": {
    "tags": []
   },
   "outputs": [
    {
     "name": "stdout",
     "output_type": "stream",
     "text": [
      "[ 0.00683689  1.49963717 -0.8100358 ]\n",
      "0.9693126300210197\n"
     ]
    }
   ],
   "source": [
    "print(beta_hat)\n",
    "print(sigma_hat)"
   ]
  },
  {
   "cell_type": "code",
   "execution_count": null,
   "id": "8737faa3-c6f3-4af1-8fb1-5c0c16d17e5b",
   "metadata": {},
   "outputs": [],
   "source": []
  }
 ],
 "metadata": {
  "kernelspec": {
   "display_name": "Python 3 (ipykernel)",
   "language": "python",
   "name": "python3"
  },
  "language_info": {
   "codemirror_mode": {
    "name": "ipython",
    "version": 3
   },
   "file_extension": ".py",
   "mimetype": "text/x-python",
   "name": "python",
   "nbconvert_exporter": "python",
   "pygments_lexer": "ipython3",
   "version": "3.11.5"
  }
 },
 "nbformat": 4,
 "nbformat_minor": 5
}
