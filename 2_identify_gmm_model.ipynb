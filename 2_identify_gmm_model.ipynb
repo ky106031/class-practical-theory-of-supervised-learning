{
 "cells": [
  {
   "cell_type": "code",
   "execution_count": 1,
   "id": "08689499-3cdc-43db-a57e-0104f0868d20",
   "metadata": {},
   "outputs": [],
   "source": [
    "import numpy as np\n",
    "import scipy\n",
    "import pandas as pd\n",
    "import sklearn.cluster\n",
    "import matplotlib.pyplot as plt\n",
    "%matplotlib inline"
   ]
  },
  {
   "cell_type": "code",
   "execution_count": 2,
   "id": "75b29964-6425-4337-aa2a-ac53ce4a87aa",
   "metadata": {
    "tags": []
   },
   "outputs": [],
   "source": [
    "x = np.load(\"gmm_data.npy\")"
   ]
  },
  {
   "cell_type": "markdown",
   "id": "1e9181b7-af6e-4799-bac2-24df0cc1824b",
   "metadata": {},
   "source": [
    "## 初期化"
   ]
  },
  {
   "cell_type": "code",
   "execution_count": 3,
   "id": "4a5144f2-521c-4b32-ad72-fc8bc65101d3",
   "metadata": {
    "tags": []
   },
   "outputs": [
    {
     "data": {
      "text/html": [
       "<div>\n",
       "<style scoped>\n",
       "    .dataframe tbody tr th:only-of-type {\n",
       "        vertical-align: middle;\n",
       "    }\n",
       "\n",
       "    .dataframe tbody tr th {\n",
       "        vertical-align: top;\n",
       "    }\n",
       "\n",
       "    .dataframe thead th {\n",
       "        text-align: right;\n",
       "    }\n",
       "</style>\n",
       "<table border=\"1\" class=\"dataframe\">\n",
       "  <thead>\n",
       "    <tr style=\"text-align: right;\">\n",
       "      <th></th>\n",
       "      <th>x</th>\n",
       "      <th>labels</th>\n",
       "    </tr>\n",
       "  </thead>\n",
       "  <tbody>\n",
       "    <tr>\n",
       "      <th>0</th>\n",
       "      <td>1.145809</td>\n",
       "      <td>0</td>\n",
       "    </tr>\n",
       "    <tr>\n",
       "      <th>1</th>\n",
       "      <td>-0.102975</td>\n",
       "      <td>1</td>\n",
       "    </tr>\n",
       "    <tr>\n",
       "      <th>2</th>\n",
       "      <td>1.852026</td>\n",
       "      <td>0</td>\n",
       "    </tr>\n",
       "    <tr>\n",
       "      <th>3</th>\n",
       "      <td>-2.041438</td>\n",
       "      <td>1</td>\n",
       "    </tr>\n",
       "    <tr>\n",
       "      <th>4</th>\n",
       "      <td>-0.411572</td>\n",
       "      <td>1</td>\n",
       "    </tr>\n",
       "    <tr>\n",
       "      <th>...</th>\n",
       "      <td>...</td>\n",
       "      <td>...</td>\n",
       "    </tr>\n",
       "    <tr>\n",
       "      <th>9995</th>\n",
       "      <td>-0.979454</td>\n",
       "      <td>1</td>\n",
       "    </tr>\n",
       "    <tr>\n",
       "      <th>9996</th>\n",
       "      <td>1.433581</td>\n",
       "      <td>0</td>\n",
       "    </tr>\n",
       "    <tr>\n",
       "      <th>9997</th>\n",
       "      <td>1.648436</td>\n",
       "      <td>0</td>\n",
       "    </tr>\n",
       "    <tr>\n",
       "      <th>9998</th>\n",
       "      <td>-0.827918</td>\n",
       "      <td>1</td>\n",
       "    </tr>\n",
       "    <tr>\n",
       "      <th>9999</th>\n",
       "      <td>1.107833</td>\n",
       "      <td>0</td>\n",
       "    </tr>\n",
       "  </tbody>\n",
       "</table>\n",
       "<p>10000 rows × 2 columns</p>\n",
       "</div>"
      ],
      "text/plain": [
       "             x  labels\n",
       "0     1.145809       0\n",
       "1    -0.102975       1\n",
       "2     1.852026       0\n",
       "3    -2.041438       1\n",
       "4    -0.411572       1\n",
       "...        ...     ...\n",
       "9995 -0.979454       1\n",
       "9996  1.433581       0\n",
       "9997  1.648436       0\n",
       "9998 -0.827918       1\n",
       "9999  1.107833       0\n",
       "\n",
       "[10000 rows x 2 columns]"
      ]
     },
     "metadata": {},
     "output_type": "display_data"
    }
   ],
   "source": [
    "kmeans = sklearn.cluster.KMeans(n_clusters=2, n_init=\"auto\").fit(x[:, np.newaxis])\n",
    "df = pd.DataFrame(dict(x=x, labels=kmeans.labels_))\n",
    "display(df)"
   ]
  },
  {
   "cell_type": "code",
   "execution_count": 4,
   "id": "ea55d686-f663-49c9-afd6-2634be8dda11",
   "metadata": {
    "tags": []
   },
   "outputs": [
    {
     "data": {
      "text/html": [
       "<div>\n",
       "<style scoped>\n",
       "    .dataframe tbody tr th:only-of-type {\n",
       "        vertical-align: middle;\n",
       "    }\n",
       "\n",
       "    .dataframe tbody tr th {\n",
       "        vertical-align: top;\n",
       "    }\n",
       "\n",
       "    .dataframe thead th {\n",
       "        text-align: right;\n",
       "    }\n",
       "</style>\n",
       "<table border=\"1\" class=\"dataframe\">\n",
       "  <thead>\n",
       "    <tr style=\"text-align: right;\">\n",
       "      <th></th>\n",
       "      <th>eta0</th>\n",
       "      <th>mu0</th>\n",
       "      <th>sigma0</th>\n",
       "    </tr>\n",
       "  </thead>\n",
       "  <tbody>\n",
       "    <tr>\n",
       "      <th>0</th>\n",
       "      <td>0.6105</td>\n",
       "      <td>0.989136</td>\n",
       "      <td>0.238518</td>\n",
       "    </tr>\n",
       "    <tr>\n",
       "      <th>1</th>\n",
       "      <td>0.3895</td>\n",
       "      <td>-1.060503</td>\n",
       "      <td>0.306956</td>\n",
       "    </tr>\n",
       "  </tbody>\n",
       "</table>\n",
       "</div>"
      ],
      "text/plain": [
       "     eta0       mu0    sigma0\n",
       "0  0.6105  0.989136  0.238518\n",
       "1  0.3895 -1.060503  0.306956"
      ]
     },
     "metadata": {},
     "output_type": "display_data"
    }
   ],
   "source": [
    "groupby = df.groupby(\"labels\")\n",
    "eta0 = (groupby.size() / len(x)).squeeze().to_numpy()\n",
    "mu0 = groupby.mean().squeeze().to_numpy()\n",
    "sigma0 = groupby.var(ddof=0).squeeze().to_numpy()\n",
    "display(pd.DataFrame(dict(eta0=eta0, mu0=mu0, sigma0=sigma0)))"
   ]
  },
  {
   "cell_type": "markdown",
   "id": "3f86fe86-b598-4844-bd16-2e493db91420",
   "metadata": {},
   "source": [
    "## EMアルゴリズム"
   ]
  },
  {
   "cell_type": "code",
   "execution_count": 5,
   "id": "059e8022-4e8d-45c8-83f5-96752773489f",
   "metadata": {},
   "outputs": [],
   "source": [
    "def e_step(x, eta, mu, sigma):\n",
    "    log_resp = np.log(eta) + scipy.stats.norm.logpdf(x[:, np.newaxis], loc=mu, scale=sigma)\n",
    "    log_resp -= scipy.special.logsumexp(log_resp, axis=-1, keepdims=True)\n",
    "    return log_resp"
   ]
  },
  {
   "cell_type": "code",
   "execution_count": 6,
   "id": "4e852078-9b6f-443b-b701-0167d549bfcd",
   "metadata": {
    "tags": []
   },
   "outputs": [],
   "source": [
    "def optimize_eta(N):\n",
    "    return N / N.sum()\n",
    "def optimize_mu(x, resp, N):\n",
    "    return np.einsum(\"nk,n->k\", resp, x) / N\n",
    "def optimize_sigma(diff, resp, N):\n",
    "    return np.sqrt(np.einsum(\"nk,nk,nk->k\", resp, diff, diff) / N)\n",
    "\n",
    "def m_step(x, log_resp):\n",
    "    resp = np.exp(log_resp)\n",
    "    N = resp.sum(axis=0)\n",
    "    eta_ = optimize_eta(N)\n",
    "    mu_ = optimize_mu(x, resp, N)\n",
    "    sigma_ = optimize_sigma(x[:, np.newaxis] - mu_, resp, N)\n",
    "    return (eta_, mu_, sigma_)"
   ]
  },
  {
   "cell_type": "code",
   "execution_count": 7,
   "id": "8617ccdb-5c78-413e-9db9-9cf6887e2219",
   "metadata": {
    "tags": []
   },
   "outputs": [],
   "source": [
    "def log_likelihood(x, eta, mu, sigma):\n",
    "    log_p = np.log(eta) + scipy.stats.norm.logpdf(x[:, np.newaxis], loc=mu, scale=sigma)\n",
    "    return scipy.special.logsumexp(log_p, axis=-1).sum()"
   ]
  },
  {
   "cell_type": "markdown",
   "id": "6a61286f-b1e6-4833-9fe9-1c6cff44c409",
   "metadata": {},
   "source": [
    "### 収束の様子を確認"
   ]
  },
  {
   "cell_type": "code",
   "execution_count": 8,
   "id": "075d476d-70e4-4784-9835-5b247a801f09",
   "metadata": {
    "tags": []
   },
   "outputs": [],
   "source": [
    "eta = eta0\n",
    "mu = mu0\n",
    "sigma = sigma0\n",
    "\n",
    "history = [log_likelihood(x, eta, mu, sigma)]\n",
    "for _ in range(10):\n",
    "    log_resp = e_step(x, eta, mu, sigma)\n",
    "    (eta, mu, sigma) = m_step(x, log_resp)\n",
    "    L = log_likelihood(x, eta, mu, sigma)\n",
    "    history.append(L)"
   ]
  },
  {
   "cell_type": "code",
   "execution_count": 9,
   "id": "23d31f7b-12da-4cfb-bf20-497d093d8a91",
   "metadata": {},
   "outputs": [
    {
     "data": {
      "image/png": "[encoded data removed]",
      "text/plain": [
       "<Figure size 640x480 with 1 Axes>"
      ]
     },
     "metadata": {},
     "output_type": "display_data"
    }
   ],
   "source": [
    "(fig, ax) = plt.subplots()\n",
    "ax.plot(history)\n",
    "plt.show()"
   ]
  },
  {
   "cell_type": "markdown",
   "id": "44d095c3-79f0-4fe4-857c-0e30806f1204",
   "metadata": {},
   "source": [
    "### モデルを同定"
   ]
  },
  {
   "cell_type": "code",
   "execution_count": 10,
   "id": "c02ceb10-49db-4644-9e69-61b08a87e27a",
   "metadata": {
    "tags": []
   },
   "outputs": [],
   "source": [
    "MAX_ITER = 100\n",
    "CONVERGENCE_THRESHOLD = 1e-3\n",
    "\n",
    "def identify_gmm(x, eta0, mu0, sigma0):\n",
    "    eta = eta0\n",
    "    mu = mu0\n",
    "    sigma = sigma0\n",
    "    \n",
    "    L = log_likelihood(x, eta, mu, sigma)\n",
    "    for _ in range(MAX_ITER):\n",
    "        log_resp = e_step(x, eta, mu, sigma)\n",
    "        (eta, mu, sigma) = m_step(x, log_resp)\n",
    "        L_ = log_likelihood(x, eta, mu, sigma)\n",
    "        if abs(L_ - L) < CONVERGENCE_THRESHOLD:\n",
    "            break\n",
    "        L = L_\n",
    "    \n",
    "    return (eta, mu, sigma)"
   ]
  },
  {
   "cell_type": "code",
   "execution_count": 11,
   "id": "1f35699f-653f-4e63-8a27-482f41b2b8e6",
   "metadata": {},
   "outputs": [
    {
     "data": {
      "text/html": [
       "<div>\n",
       "<style scoped>\n",
       "    .dataframe tbody tr th:only-of-type {\n",
       "        vertical-align: middle;\n",
       "    }\n",
       "\n",
       "    .dataframe tbody tr th {\n",
       "        vertical-align: top;\n",
       "    }\n",
       "\n",
       "    .dataframe thead th {\n",
       "        text-align: right;\n",
       "    }\n",
       "</style>\n",
       "<table border=\"1\" class=\"dataframe\">\n",
       "  <thead>\n",
       "    <tr style=\"text-align: right;\">\n",
       "      <th></th>\n",
       "      <th>eta</th>\n",
       "      <th>mu</th>\n",
       "      <th>sigma</th>\n",
       "    </tr>\n",
       "  </thead>\n",
       "  <tbody>\n",
       "    <tr>\n",
       "      <th>0</th>\n",
       "      <td>0.60401</td>\n",
       "      <td>0.988090</td>\n",
       "      <td>0.502192</td>\n",
       "    </tr>\n",
       "    <tr>\n",
       "      <th>1</th>\n",
       "      <td>0.39599</td>\n",
       "      <td>-1.025316</td>\n",
       "      <td>0.599266</td>\n",
       "    </tr>\n",
       "  </tbody>\n",
       "</table>\n",
       "</div>"
      ],
      "text/plain": [
       "       eta        mu     sigma\n",
       "0  0.60401  0.988090  0.502192\n",
       "1  0.39599 -1.025316  0.599266"
      ]
     },
     "metadata": {},
     "output_type": "display_data"
    }
   ],
   "source": [
    "(eta, mu, sigma) = identify_gmm(x, eta0, mu0, sigma0)\n",
    "display(pd.DataFrame(dict(eta=eta, mu=mu, sigma=sigma)))"
   ]
  },
  {
   "cell_type": "code",
   "execution_count": null,
   "id": "8737faa3-c6f3-4af1-8fb1-5c0c16d17e5b",
   "metadata": {},
   "outputs": [],
   "source": []
  }
 ],
 "metadata": {
  "kernelspec": {
   "display_name": "Python 3 (ipykernel)",
   "language": "python",
   "name": "python3"
  },
  "language_info": {
   "codemirror_mode": {
    "name": "ipython",
    "version": 3
   },
   "file_extension": ".py",
   "mimetype": "text/x-python",
   "name": "python",
   "nbconvert_exporter": "python",
   "pygments_lexer": "ipython3",
   "version": "3.11.5"
  }
 },
 "nbformat": 4,
 "nbformat_minor": 5
}
