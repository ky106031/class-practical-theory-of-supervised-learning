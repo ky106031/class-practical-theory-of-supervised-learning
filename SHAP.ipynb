{
 "cells": [
  {
   "cell_type": "markdown",
   "id": "887a8409",
   "metadata": {},
   "source": [
    "# SHAP値の計算"
   ]
  },
  {
   "cell_type": "code",
   "execution_count": null,
   "id": "e8da5687",
   "metadata": {},
   "outputs": [],
   "source": [
    "from xgboost import XGBClassifier\n",
    "from sklearn.datasets import fetch_openml  # データセットのダウンロード取得用\n",
    "import pandas as pd  # データフレーム操作用\n",
    "import matplotlib.pyplot as plt  # グラフ描画用\n",
    "import numpy as np"
   ]
  },
  {
   "cell_type": "code",
   "execution_count": null,
   "id": "661bbed7",
   "metadata": {},
   "outputs": [],
   "source": [
    "# 1. データセットの取得\n",
    "dataset = fetch_openml(\"pima-indians-diabetes\", version=1, as_frame=True)  # Pimaデータセットを取得\n",
    "# こんな感じのデータです．8変数の説明変数．Outcomeは0 or 1\n",
    "print(dataset.DESCR)"
   ]
  },
  {
   "cell_type": "code",
   "execution_count": null,
   "id": "6c4aba5d",
   "metadata": {},
   "outputs": [],
   "source": [
    "# 【追加】欠損値の処理\n",
    "# 欠損値の処理: Glucose，BloodPressure，SkinThickness，Insulin，BMIの5つの変数に0が入っている場合は欠損値扱いにする\n",
    "# 0をNaNに置き換え\n",
    "dataset.frame[[\"Glucose\", \"BloodPressure\", \"SkinThickness\", \"Insulin\", \"BMI\"]] = dataset.frame[\n",
    "    [\"Glucose\", \"BloodPressure\", \"SkinThickness\", \"Insulin\", \"BMI\"]\n",
    "].replace(0, np.nan)\n",
    "dataset.frame.head()  # データフレームの最初の5行を表示\n"
   ]
  },
  {
   "cell_type": "code",
   "execution_count": null,
   "id": "166fd008",
   "metadata": {},
   "outputs": [],
   "source": [
    "# 2. 説明変数をX，目的変数をyに分ける\n",
    "# X = dataset.data\n",
    "# y = dataset.target.astype(\"int\")  # 目的変数は整数型に変換\n",
    "\n",
    "# こっちの方が汎用性が高いです．PandasのDataFrameから変換する方法\n",
    "df = dataset.frame\n",
    "X = df.drop(columns=[\"Outcome\"])  # Outcome列を除外\n",
    "y = df[\"Outcome\"].astype(int)  # Outcome列を抽出 & 整数型に変換"
   ]
  },
  {
   "cell_type": "code",
   "execution_count": null,
   "id": "6cad6627",
   "metadata": {},
   "outputs": [],
   "source": [
    "# 3. 訓練データとテストデータに分割\n",
    "from sklearn.model_selection import train_test_split  # データ分割用\n",
    "X_train, X_test, y_train, y_test = train_test_split(X, y, test_size=0.2, random_state=500)  # 80%訓練，20%テスト"
   ]
  },
  {
   "cell_type": "code",
   "execution_count": null,
   "id": "1f2ceeea",
   "metadata": {},
   "outputs": [],
   "source": [
    "# 4. xgboostを使って学習\n",
    "model = XGBClassifier(\n",
    "    n_estimators=100,  # 木の数\n",
    "    max_depth=3,  # 木の深さ\n",
    "    learning_rate=0.1,  # 学習率\n",
    "    random_state=100,  # 再現性のための乱数シード\n",
    ")\n",
    "model.fit(X_train, y_train)  # 訓練データで学習"
   ]
  },
  {
   "cell_type": "markdown",
   "id": "e9409159",
   "metadata": {},
   "source": [
    "## SHAP値の計算 (Tree SHAP)"
   ]
  },
  {
   "cell_type": "code",
   "execution_count": null,
   "id": "c83cc5fd",
   "metadata": {},
   "outputs": [],
   "source": [
    "import shap\n",
    "explainer = shap.TreeExplainer(model)  # SHAPのTreeExplainerを使用\n",
    "shap_values = explainer(X_test)  # テストデータに対するSHAP値を計算\n",
    "print(shap_values.shape) # (サンプル数、 変数数)"
   ]
  },
  {
   "cell_type": "code",
   "execution_count": null,
   "id": "de1481d6",
   "metadata": {},
   "outputs": [],
   "source": [
    "shap.plots.waterfall(shap_values[0])  # 最初のサンプルに対するSHAP値のウォーターフォールプロットを表示"
   ]
  },
  {
   "cell_type": "code",
   "execution_count": null,
   "id": "a95271a9",
   "metadata": {},
   "outputs": [],
   "source": [
    "# 特徴量\"Glucose\"のSHAP値をプロット\n",
    "## グレーで示されているのは\"Glucose\"のヒストグラム\n",
    "## 縦軸がSHAP値，横軸が\"Glucose\"の値\n",
    "shap.plots.scatter(shap_values[:, \"Glucose\"])"
   ]
  },
  {
   "cell_type": "code",
   "execution_count": null,
   "id": "2d536b5f",
   "metadata": {},
   "outputs": [],
   "source": [
    "shap.plots.scatter(shap_values[:, \"BloodPressure\"])"
   ]
  },
  {
   "cell_type": "code",
   "execution_count": null,
   "id": "3fe0f5f7",
   "metadata": {},
   "outputs": [],
   "source": [
    "# 全てのサンプルに対するSHAP値の分布をプロット\n",
    "shap.plots.beeswarm(shap_values)"
   ]
  },
  {
   "cell_type": "code",
   "execution_count": null,
   "id": "e416225c",
   "metadata": {},
   "outputs": [],
   "source": [
    "# 各変数の貢献度を棒グラフで表示\n",
    "shap.summary_plot(shap_values, X_test, plot_type=\"bar\")\n"
   ]
  },
  {
   "cell_type": "code",
   "execution_count": null,
   "id": "2d413a5e",
   "metadata": {},
   "outputs": [],
   "source": [
    "# インタラクティブにSHAP値を表示\n",
    "shap.initjs() # Google Colabではこの行が必要（なはず）\n",
    "shap.force_plot(explainer.expected_value, shap_values.values[:, :], X_test.iloc[:, :])\n",
    "\n",
    "# データ個数が多すぎる場合は以下のように表示する個数をランダムに制限してください。\n",
    "# N = 1000 # 表示するサンプル数\n",
    "# np.random.seed(0) # 再現性のため。実行する度に同じサンプルが選ばれる\n",
    "# idx = np.random.choice(X_test.shape[0], N, replace=False)  # ランダムにN個のインデックスを選択\n",
    "# shap.force_plot(explainer.expected_value, shap_values.values[idx, :], X_test.iloc[idx, :])\n",
    "\n"
   ]
  },
  {
   "cell_type": "markdown",
   "id": "73da3ef8",
   "metadata": {},
   "source": [
    "## SHAP値の計算 (Kernel SHAP)\n",
    "\n",
    "欠損値を許容しない他のモデルで試してみましょう"
   ]
  },
  {
   "cell_type": "code",
   "execution_count": null,
   "id": "f441dce6",
   "metadata": {},
   "outputs": [],
   "source": [
    "# 再度データを用意\n",
    "dataset = fetch_openml(\"pima-indians-diabetes\", version=1, as_frame=True)  # Pimaデータセットを取得\n",
    "dataset.frame[[\"Glucose\", \"BloodPressure\", \"SkinThickness\", \"Insulin\", \"BMI\"]] = dataset.frame[\n",
    "    [\"Glucose\", \"BloodPressure\", \"SkinThickness\", \"Insulin\", \"BMI\"]\n",
    "].replace(0, np.nan)\n",
    "df = dataset.frame\n"
   ]
  },
  {
   "cell_type": "code",
   "execution_count": null,
   "id": "369d9021",
   "metadata": {},
   "outputs": [],
   "source": [
    "# 欠損値を補完しないとモデルの学習すらできないので、まずは補完します。\n",
    "# 今回は、k-近傍法を使った欠損値補完(imputation)を行います。\n",
    "from sklearn.impute import KNNImputer\n",
    "imputer = KNNImputer()  # k-近傍法を使って欠損値を補完\n",
    "df_imputed = pd.DataFrame(\n",
    "    imputer.fit_transform(df),  # 欠損値を補完\n",
    "    columns=df.columns,  # 元のカラム名を保持\n",
    ")  # DataFrameに戻す\n",
    "\n",
    "# あとは同じようにtrain_test_split\n",
    "X = df_imputed.drop(columns=[\"Outcome\"])  # Outcome列を除外\n",
    "y = df_imputed[\"Outcome\"].astype(int)  # Outcome列を抽出 & 整数型に変換\n",
    "X_train, X_test, y_train, y_test = train_test_split(X, y, test_size=0.2, random_state=500)  # 80%訓練，20%テスト"
   ]
  },
  {
   "cell_type": "code",
   "execution_count": null,
   "id": "027c816f",
   "metadata": {},
   "outputs": [],
   "source": [
    "# 補完前\n",
    "df.head(10)"
   ]
  },
  {
   "cell_type": "code",
   "execution_count": null,
   "id": "2f809b97",
   "metadata": {},
   "outputs": [],
   "source": [
    "# 補完後\n",
    "df_imputed.head(10)"
   ]
  },
  {
   "cell_type": "code",
   "execution_count": null,
   "id": "c7b72291",
   "metadata": {},
   "outputs": [],
   "source": [
    "# サポートベクトルマシン with カーネルトリック で学習\n",
    "from sklearn.svm import SVC\n",
    "model = SVC(kernel=\"rbf\", probability=True)  # SVMのモデルを作成。probablity=Trueにして{0,1}ではなく0～1の値を出力するようにする\n",
    "model.fit(X_train, y_train)  # 訓練データで学習"
   ]
  },
  {
   "cell_type": "code",
   "execution_count": null,
   "id": "3d54df90",
   "metadata": {},
   "outputs": [],
   "source": [
    "feature_names = X_test.columns # 変数の名前一覧\n",
    "\n",
    "def predict_fn(X):\n",
    "    \"\"\"予測関数\"\"\"\n",
    "    _df = pd.DataFrame(X, columns=feature_names)  # NumPy配列をDataFrameに変換\n",
    "    return model.predict_proba(_df)[:, 1]  # 「1」クラスの確率を返す\n",
    "\n",
    "explainer = shap.KernelExplainer(predict_fn, X_test)  # SHAPのKernelExplainerを使用\n",
    "\n",
    "# ※このままだとSlowだよと警告がでるがとりあえずこのまま進めます。"
   ]
  },
  {
   "cell_type": "code",
   "execution_count": null,
   "id": "0b3e5a06",
   "metadata": {},
   "outputs": [],
   "source": [
    "# 計算に時間がかかるので、最初の10個のサンプルだけ計算します。\n",
    "shap_values = explainer(X_test[0:10])  # テストデータに対するSHAP値を計算"
   ]
  },
  {
   "cell_type": "code",
   "execution_count": null,
   "id": "251744b4",
   "metadata": {},
   "outputs": [],
   "source": [
    "shap.plots.waterfall(shap_values[0])  # 最初のサンプルに対するSHAP値のウォーターフォールプロットを表示"
   ]
  },
  {
   "cell_type": "code",
   "execution_count": null,
   "id": "18794db4",
   "metadata": {},
   "outputs": [],
   "source": [
    "# 計算に時間がかかるので、ℎ_𝑥 (𝒛^′ )の算出時に必要な欠損値の補完につかうサンプル数を減らします。\n",
    "ret = shap.kmeans(X_train, 10)  # k-meansクラスタリングを使用してSHAP値を計算 10の部分は適当に。※計算時間が許す限りは大きい数字の方がいいです\n",
    "explainer = shap.KernelExplainer(predict_fn, ret)  # SHAPのKernelExplainerを使用"
   ]
  },
  {
   "cell_type": "code",
   "execution_count": null,
   "id": "d66b1290",
   "metadata": {},
   "outputs": [],
   "source": [
    "shap_values = explainer(X_test)  # テストデータに対するSHAP値を計算"
   ]
  },
  {
   "cell_type": "code",
   "execution_count": null,
   "id": "4b94cddc",
   "metadata": {},
   "outputs": [],
   "source": [
    "shap.plots.waterfall(shap_values[0])  # 最初のサンプルに対するSHAP値のウォーターフォールプロットを表示"
   ]
  },
  {
   "cell_type": "code",
   "execution_count": null,
   "id": "2dc1935a",
   "metadata": {},
   "outputs": [],
   "source": [
    "# あとはxgboostの時と同じように\n",
    "shap.plots.scatter(shap_values[:, \"Glucose\"])"
   ]
  },
  {
   "cell_type": "code",
   "execution_count": null,
   "id": "21415d5d",
   "metadata": {},
   "outputs": [],
   "source": [
    "shap.plots.scatter(shap_values[:, \"BloodPressure\"])"
   ]
  },
  {
   "cell_type": "code",
   "execution_count": null,
   "id": "b3e37567",
   "metadata": {},
   "outputs": [],
   "source": [
    "shap.plots.beeswarm(shap_values)"
   ]
  },
  {
   "cell_type": "code",
   "execution_count": null,
   "id": "1f5f5980",
   "metadata": {},
   "outputs": [],
   "source": [
    "shap.summary_plot(shap_values, X_test, plot_type=\"bar\")\n"
   ]
  },
  {
   "cell_type": "markdown",
   "id": "af4068cc",
   "metadata": {},
   "source": [
    "## 多クラス分類の場合"
   ]
  },
  {
   "cell_type": "code",
   "execution_count": null,
   "id": "3f68c234",
   "metadata": {},
   "outputs": [],
   "source": [
    "# 1. irisデータセットを取得\n",
    "dataset = fetch_openml(\"iris\", version=1, as_frame=True)\n",
    "dataset.frame.head()  # データセットの最初の5行を表示"
   ]
  },
  {
   "cell_type": "code",
   "execution_count": null,
   "id": "f99f3d7a",
   "metadata": {},
   "outputs": [],
   "source": [
    "# 2. 説明変数をX，目的変数をyに分ける\n",
    "df = dataset.frame\n",
    "X = df.drop(columns=[\"class\"]) \n",
    "# 目的変数は整数型に変換\n",
    "class_names = df[\"class\"].astype(\"category\").cat.categories # 元のクラス名\n",
    "df[\"class\"] = df[\"class\"].astype(\"category\").cat.codes # 整数型に変換\n",
    "y = df[\"class\"]"
   ]
  },
  {
   "cell_type": "code",
   "execution_count": null,
   "id": "d15f71d9",
   "metadata": {},
   "outputs": [],
   "source": [
    "# 3. 訓練データとテストデータに分割\n",
    "from sklearn.model_selection import train_test_split  # データ分割用\n",
    "X_train, X_test, y_train, y_test = train_test_split(X, y, test_size=0.2, random_state=500)  # 80%訓練，20%テスト\n",
    "np.unique_counts(y_test)  # 訓練データのクラス分布"
   ]
  },
  {
   "cell_type": "code",
   "execution_count": null,
   "id": "2b94f5dd",
   "metadata": {},
   "outputs": [],
   "source": [
    "# 4. xgboostを使って学習\n",
    "model = XGBClassifier(\n",
    "    n_estimators=100,  # 木の数\n",
    "    max_depth=3,  # 木の深さ\n",
    "    learning_rate=0.1,  # 学習率\n",
    "    random_state=100,  # 再現性のための乱数シード\n",
    ")\n",
    "model.fit(X_train, y_train)  # 訓練データで学習"
   ]
  },
  {
   "cell_type": "code",
   "execution_count": null,
   "id": "6d9b1a4a",
   "metadata": {},
   "outputs": [],
   "source": [
    "import shap\n",
    "explainer = shap.TreeExplainer(model)  # SHAPのTreeExplainerを使用\n",
    "shap_values = explainer(X_test)  # テストデータに対するSHAP値を計算\n",
    "# 多クラス識別の場合は、shap_valuesの出力が（サンプル数、変数数、クラス数）となります。\n",
    "print(shap_values.shape)"
   ]
  },
  {
   "cell_type": "code",
   "execution_count": null,
   "id": "6184502d",
   "metadata": {},
   "outputs": [],
   "source": [
    "# 多クラス識別の場合\n",
    "k = 2 # 2番目のクラスに対するSHAP値を取得\n",
    "print(f\"{class_names[k]}のSHAP値\")\n",
    "shap.plots.waterfall(shap_values[0, :, k])  # 最初のサンプルに対するSHAP値のウォーターフォールプロットを表示"
   ]
  },
  {
   "cell_type": "code",
   "execution_count": null,
   "id": "93b62ab5",
   "metadata": {},
   "outputs": [],
   "source": [
    "k = 2\n",
    "print(f\"{class_names[k]}のSHAP値\")\n",
    "shap.plots.scatter(shap_values[:, \"sepallength\", k])"
   ]
  },
  {
   "cell_type": "code",
   "execution_count": null,
   "id": "56f45ce8",
   "metadata": {},
   "outputs": [],
   "source": [
    "k = 2\n",
    "print(f\"{class_names[k]}のSHAP値\")\n",
    "shap.plots.beeswarm(shap_values[:, :, k])"
   ]
  },
  {
   "cell_type": "code",
   "execution_count": null,
   "id": "dc23ef80",
   "metadata": {},
   "outputs": [],
   "source": [
    "shap.summary_plot(shap_values, X_test, plot_type=\"bar\", class_names=class_names)  # 特徴量の重要度を棒グラフで表示"
   ]
  },
  {
   "cell_type": "markdown",
   "id": "11aa8170",
   "metadata": {},
   "source": [
    "## 回帰の場合"
   ]
  },
  {
   "cell_type": "code",
   "execution_count": null,
   "id": "80897da9",
   "metadata": {},
   "outputs": [],
   "source": [
    "# 1. データセットの取得 boston housing\n",
    "dataset = fetch_openml(\"boston\", version=1, as_frame=True)  # Boston Housingデータセットを取得\n",
    "print(dataset.DESCR)  # データセットの説明を表示。不動産価格の予測用データセットです\n"
   ]
  },
  {
   "cell_type": "code",
   "execution_count": null,
   "id": "a5c1f31d",
   "metadata": {},
   "outputs": [],
   "source": [
    "# CRIM: 町ごとの犯罪率\n",
    "# ZN: 25,000平方フィート以上の住宅区画の割合\n",
    "# INDUS: 町ごとの非小売業(工場とか)の割合\n",
    "# CHAS: チャールズ川のダミー変数(1:川に接している, 0:川に接していない)\n",
    "# NOX: 一酸化窒素濃度\n",
    "# RM: 住居の平均部屋数\n",
    "# AGE: 1940年以前に建てられた物件の割合\n",
    "# DIS: ボストンの5つの雇用センターまでの距離\n",
    "# RAD: 放射状高速道路へのアクセス性指標\n",
    "# TAX: 10,000ドルあたりの固定資産税率\n",
    "# PTRATIO: 町ごとの生徒と教師の比率\n",
    "# B: 町ごとの黒人の割合\n",
    "# LSTAT: 低所得者の割合\n",
    "# MEDV: 住宅の中央値(目的変数)\n",
    "\n",
    "dataset.frame.head()  # データセットの最初の5行を表示"
   ]
  },
  {
   "cell_type": "code",
   "execution_count": null,
   "id": "d659ace5",
   "metadata": {},
   "outputs": [],
   "source": [
    "df = dataset.frame\n",
    "X = df.drop(columns=[\"MEDV\"])  # MEDV列を除外\n",
    "# CHASはカテゴリー変数なので\n",
    "df[\"CHAS\"] = df[\"CHAS\"].astype(\"category\")  # カテゴリー型に変換\n",
    "y = df[\"MEDV\"] "
   ]
  },
  {
   "cell_type": "code",
   "execution_count": null,
   "id": "3b2d50ad",
   "metadata": {},
   "outputs": [],
   "source": [
    "# 3. 訓練データとテストデータに分割\n",
    "from sklearn.model_selection import train_test_split  # データ分割用\n",
    "X_train, X_test, y_train, y_test = train_test_split(X, y, test_size=0.2, random_state=500)  # 80%訓練，20%テスト"
   ]
  },
  {
   "cell_type": "code",
   "execution_count": null,
   "id": "daab45ee",
   "metadata": {},
   "outputs": [],
   "source": [
    "# 4. xgboostを使って学習\n",
    "from xgboost import XGBRegressor\n",
    "model = XGBRegressor(\n",
    "    n_estimators=100,  # 木の数\n",
    "    max_depth=3,  # 木の深さ\n",
    "    learning_rate=0.1,  # 学習率\n",
    "    random_state=100,  # 再現性のための乱数シード\n",
    "    enable_categorical=True,  # カテゴリー変数を使用する場合はTrueにする\n",
    ")\n",
    "model.fit(X_train, y_train)  # 訓練データで学習"
   ]
  },
  {
   "cell_type": "code",
   "execution_count": null,
   "id": "fd6af4b0",
   "metadata": {},
   "outputs": [],
   "source": [
    "import shap\n",
    "explainer = shap.TreeExplainer(model)  # SHAPのTreeExplainerを使用\n",
    "shap_values = explainer(X_test)  # テストデータに対するSHAP値を計算\n",
    "print(shap_values.shape) # (サンプル数、 変数数)"
   ]
  },
  {
   "cell_type": "code",
   "execution_count": null,
   "id": "30dae001",
   "metadata": {},
   "outputs": [],
   "source": [
    "shap.plots.waterfall(shap_values[0])  # 最初のサンプルに対するSHAP値のウォーターフォールプロットを表示"
   ]
  },
  {
   "cell_type": "code",
   "execution_count": null,
   "id": "5a247635",
   "metadata": {},
   "outputs": [],
   "source": [
    "# 部屋数とSHAP値の関係をプロット\n",
    "shap.plots.scatter(shap_values[:, \"RM\"])"
   ]
  },
  {
   "cell_type": "code",
   "execution_count": null,
   "id": "0d066113",
   "metadata": {},
   "outputs": [],
   "source": [
    "shap.plots.beeswarm(shap_values)"
   ]
  },
  {
   "cell_type": "code",
   "execution_count": null,
   "id": "063c63c0",
   "metadata": {},
   "outputs": [],
   "source": [
    "# 全部表示したければ\n",
    "shap.plots.beeswarm(shap_values, max_display=len(X_test.columns))  # max_displayで表示する変数の数を指定"
   ]
  },
  {
   "cell_type": "code",
   "execution_count": null,
   "id": "3c5fef05",
   "metadata": {},
   "outputs": [],
   "source": [
    "# 各変数の貢献度を棒グラフで表示\n",
    "shap.summary_plot(shap_values, X_test, plot_type=\"bar\")"
   ]
  },
  {
   "cell_type": "code",
   "execution_count": null,
   "id": "5b93c0a0",
   "metadata": {},
   "outputs": [],
   "source": [
    "shap.initjs() # Google Colabではこの行が必要（なはず）\n",
    "shap.force_plot(explainer.expected_value, shap_values.values[:, :], X_test.iloc[:, :])\n"
   ]
  }
 ],
 "metadata": {
  "kernelspec": {
   "display_name": "myenv",
   "language": "python",
   "name": "python3"
  },
  "language_info": {
   "codemirror_mode": {
    "name": "ipython",
    "version": 3
   },
   "file_extension": ".py",
   "mimetype": "text/x-python",
   "name": "python",
   "nbconvert_exporter": "python",
   "pygments_lexer": "ipython3",
   "version": "3.12.8"
  }
 },
 "nbformat": 4,
 "nbformat_minor": 5
}
